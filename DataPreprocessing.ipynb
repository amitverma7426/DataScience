{
  "nbformat": 4,
  "nbformat_minor": 0,
  "metadata": {
    "colab": {
      "provenance": [],
      "authorship_tag": "ABX9TyOGEIKR3hu3NeZr3Vt7oohr",
      "include_colab_link": true
    },
    "kernelspec": {
      "name": "python3",
      "display_name": "Python 3"
    },
    "language_info": {
      "name": "python"
    }
  },
  "cells": [
    {
      "cell_type": "markdown",
      "metadata": {
        "id": "view-in-github",
        "colab_type": "text"
      },
      "source": [
        "<a href=\"https://colab.research.google.com/github/amitverma7426/DataScience/blob/main/DataPreprocessing.ipynb\" target=\"_parent\"><img src=\"https://colab.research.google.com/assets/colab-badge.svg\" alt=\"Open In Colab\"/></a>"
      ]
    },
    {
      "cell_type": "code",
      "source": [
        "import pandas as pd\n",
        "import numpy as np\n",
        "from scipy import stats\n",
        "from sklearn.preprocessing import StandardScaler\n",
        "import matplotlib.pyplot as plt\n",
        "import seaborn as sns\n"
      ],
      "metadata": {
        "id": "kj2Mdr9_hFIZ"
      },
      "execution_count": 19,
      "outputs": []
    },
    {
      "cell_type": "code",
      "source": [
        "# Set random seed for reproducibility\n",
        "np.random.seed(42)\n",
        "\n",
        "# Create a DataFrame\n",
        "df = pd.DataFrame({\n",
        "    'Feature1': np.random.normal(50, 5, 100),  # Normally distributed data\n",
        "    'Feature2': np.random.uniform(20, 80, 100),  # Uniformly distributed data\n",
        "    'Category': np.random.choice(['A', 'B', 'C'], 100),  # Categorical data\n",
        "    'Target': np.random.choice([0, 1], 100)  # Binary target variable\n",
        "})\n",
        "\n",
        "# Introduce missing values\n",
        "missing_indices = np.random.choice(df.index, 10, replace=False)\n",
        "df.loc[missing_indices, 'Feature1'] = np.nan\n",
        "\n",
        "# Introduce outliers in 'Feature1'\n",
        "outlier_indices = np.random.choice(df.index, 5, replace=False)\n",
        "df.loc[outlier_indices, 'Feature1'] = df['Feature1'] * 3\n",
        "\n",
        "# Display the first few rows of the dataset\n",
        "print(df.head())\n"
      ],
      "metadata": {
        "colab": {
          "base_uri": "https://localhost:8080/"
        },
        "id": "PViFKymkhFK-",
        "outputId": "105fc351-4e77-431f-e043-c09f335e98c7"
      },
      "execution_count": 20,
      "outputs": [
        {
          "output_type": "stream",
          "name": "stdout",
          "text": [
            "     Feature1   Feature2 Category  Target\n",
            "0   52.483571  45.044660        B       0\n",
            "1  147.926035  33.326469        A       1\n",
            "2   53.238443  27.191922        B       1\n",
            "3   57.615149  40.256910        A       0\n",
            "4         NaN  76.574582        C       1\n"
          ]
        }
      ]
    },
    {
      "cell_type": "code",
      "source": [
        "# Impute missing values in 'Feature1' with the mean\n",
        "df['Feature1'].fillna(df['Feature1'].mean(), inplace=True)\n",
        "\n",
        "# Check for any remaining missing values\n",
        "print(df.isnull().sum())\n"
      ],
      "metadata": {
        "colab": {
          "base_uri": "https://localhost:8080/"
        },
        "id": "jLe2r9C-hFNh",
        "outputId": "18157767-4b72-472b-f561-7906311d116d"
      },
      "execution_count": 21,
      "outputs": [
        {
          "output_type": "stream",
          "name": "stdout",
          "text": [
            "Feature1    0\n",
            "Feature2    0\n",
            "Category    0\n",
            "Target      0\n",
            "dtype: int64\n"
          ]
        },
        {
          "output_type": "stream",
          "name": "stderr",
          "text": [
            "<ipython-input-21-9eff6705b23a>:2: FutureWarning: A value is trying to be set on a copy of a DataFrame or Series through chained assignment using an inplace method.\n",
            "The behavior will change in pandas 3.0. This inplace method will never work because the intermediate object on which we are setting values always behaves as a copy.\n",
            "\n",
            "For example, when doing 'df[col].method(value, inplace=True)', try using 'df.method({col: value}, inplace=True)' or df[col] = df[col].method(value) instead, to perform the operation inplace on the original object.\n",
            "\n",
            "\n",
            "  df['Feature1'].fillna(df['Feature1'].mean(), inplace=True)\n"
          ]
        }
      ]
    },
    {
      "cell_type": "code",
      "source": [
        "# Calculate Z-scores\n",
        "z_scores = stats.zscore(df[['Feature1', 'Feature2']])\n",
        "\n",
        "# Convert to DataFrame for easier handling\n",
        "z_scores_df = pd.DataFrame(z_scores, columns=['Feature1_z', 'Feature2_z'])\n",
        "\n",
        "# Identify outliers\n",
        "outliers = (np.abs(z_scores_df) > 3).any(axis=1)\n",
        "\n",
        "# Remove outliers\n",
        "df_cleaned = df[~outliers]\n",
        "\n",
        "# Display the number of removed outliers\n",
        "print(f\"Removed {outliers.sum()} outliers\")\n"
      ],
      "metadata": {
        "colab": {
          "base_uri": "https://localhost:8080/"
        },
        "id": "WZ6mT8POhFQ3",
        "outputId": "566331ff-9645-4db8-eb34-a359b4a3f525"
      },
      "execution_count": 22,
      "outputs": [
        {
          "output_type": "stream",
          "name": "stdout",
          "text": [
            "Removed 0 outliers\n"
          ]
        }
      ]
    },
    {
      "cell_type": "code",
      "source": [
        "# Initialize the scaler\n",
        "scaler = StandardScaler()\n",
        "\n",
        "# Fit and transform the numerical features\n",
        "df_cleaned[['Feature1', 'Feature2']] = scaler.fit_transform(df_cleaned[['Feature1', 'Feature2']])\n",
        "\n",
        "# Display the first few rows of the scaled data\n",
        "print(df_cleaned.head())\n"
      ],
      "metadata": {
        "colab": {
          "base_uri": "https://localhost:8080/"
        },
        "id": "MPsei2xjhZkg",
        "outputId": "3e624cd8-69a2-4b5d-feae-f25d14dd6873"
      },
      "execution_count": 23,
      "outputs": [
        {
          "output_type": "stream",
          "name": "stdout",
          "text": [
            "       Feature1  Feature2 Category  Target\n",
            "0 -7.948336e-02 -0.239956        B       0\n",
            "1  4.508117e+00 -0.921168        A       1\n",
            "2 -4.319919e-02 -1.277786        B       1\n",
            "3  1.671745e-01 -0.518281        A       0\n",
            "4 -3.415342e-16  1.592969        C       1\n"
          ]
        }
      ]
    },
    {
      "cell_type": "code",
      "source": [
        "# Perform one-hot encoding\n",
        "df_encoded = pd.get_dummies(df_cleaned, columns=['Category'])\n",
        "\n",
        "# Display the first few rows of the encoded data\n",
        "print(df_encoded.head())\n"
      ],
      "metadata": {
        "colab": {
          "base_uri": "https://localhost:8080/"
        },
        "id": "a2wmvbvmhcL6",
        "outputId": "20a541bd-0ad4-455d-d8ed-d11ef0fce602"
      },
      "execution_count": 24,
      "outputs": [
        {
          "output_type": "stream",
          "name": "stdout",
          "text": [
            "       Feature1  Feature2  Target  Category_A  Category_B  Category_C\n",
            "0 -7.948336e-02 -0.239956       0       False        True       False\n",
            "1  4.508117e+00 -0.921168       1        True       False       False\n",
            "2 -4.319919e-02 -1.277786       1       False        True       False\n",
            "3  1.671745e-01 -0.518281       0        True       False       False\n",
            "4 -3.415342e-16  1.592969       1       False       False        True\n"
          ]
        }
      ]
    },
    {
      "cell_type": "code",
      "source": [
        "# Save the preprocessed DataFrame to a CSV file\n",
        "df_encoded.to_csv('preprocessed_dummy_data.csv', index=False)\n",
        "\n",
        "print('Preprocessing complete. Preprocessed data saved as preprocessed_dummy_data.csv')\n"
      ],
      "metadata": {
        "colab": {
          "base_uri": "https://localhost:8080/"
        },
        "id": "vxYYEHhAhcO3",
        "outputId": "4034bca8-c277-4ce8-e46b-60d353812c7b"
      },
      "execution_count": 25,
      "outputs": [
        {
          "output_type": "stream",
          "name": "stdout",
          "text": [
            "Preprocessing complete. Preprocessed data saved as preprocessed_dummy_data.csv\n"
          ]
        }
      ]
    },
    {
      "cell_type": "code",
      "source": [
        "# Check for missing values\n",
        "print(df_encoded.isnull().sum())\n",
        "\n",
        "# Verify the scaling\n",
        "print(df_encoded.describe())\n",
        "\n",
        "# Check the encoding\n",
        "print(df_encoded.head())\n"
      ],
      "metadata": {
        "colab": {
          "base_uri": "https://localhost:8080/"
        },
        "id": "p9E6wiKmhfHr",
        "outputId": "8e390ba5-c304-4a27-97c2-a7da28065f1d"
      },
      "execution_count": 26,
      "outputs": [
        {
          "output_type": "stream",
          "name": "stdout",
          "text": [
            "Feature1      0\n",
            "Feature2      0\n",
            "Target        0\n",
            "Category_A    0\n",
            "Category_B    0\n",
            "Category_C    0\n",
            "dtype: int64\n",
            "           Feature1      Feature2      Target\n",
            "count  1.000000e+02  1.000000e+02  100.000000\n",
            "mean  -2.420286e-16 -1.898481e-16    0.540000\n",
            "std    1.005038e+00  1.005038e+00    0.500908\n",
            "min   -8.284723e-01 -1.678219e+00    0.000000\n",
            "25%   -3.241083e-01 -8.542966e-01    0.000000\n",
            "50%   -1.738656e-01  7.387473e-02    1.000000\n",
            "75%   -3.415342e-16  7.271373e-01    1.000000\n",
            "max    5.943298e+00  1.742047e+00    1.000000\n",
            "       Feature1  Feature2  Target  Category_A  Category_B  Category_C\n",
            "0 -7.948336e-02 -0.239956       0       False        True       False\n",
            "1  4.508117e+00 -0.921168       1        True       False       False\n",
            "2 -4.319919e-02 -1.277786       1       False        True       False\n",
            "3  1.671745e-01 -0.518281       0        True       False       False\n",
            "4 -3.415342e-16  1.592969       1       False       False        True\n"
          ]
        }
      ]
    },
    {
      "cell_type": "code",
      "source": [],
      "metadata": {
        "id": "ON0jBdsvhfLV"
      },
      "execution_count": null,
      "outputs": []
    },
    {
      "cell_type": "code",
      "source": [],
      "metadata": {
        "id": "Y_Z9PwNqhcSD"
      },
      "execution_count": null,
      "outputs": []
    }
  ]
}