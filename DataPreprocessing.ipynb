{
  "nbformat": 4,
  "nbformat_minor": 0,
  "metadata": {
    "colab": {
      "provenance": [],
      "authorship_tag": "ABX9TyPawsFNh5Q/Yq9MS4025jCQ",
      "include_colab_link": true
    },
    "kernelspec": {
      "name": "python3",
      "display_name": "Python 3"
    },
    "language_info": {
      "name": "python"
    }
  },
  "cells": [
    {
      "cell_type": "markdown",
      "metadata": {
        "id": "view-in-github",
        "colab_type": "text"
      },
      "source": [
        "<a href=\"https://colab.research.google.com/github/amitverma7426/DataScience/blob/main/DataPreprocessing.ipynb\" target=\"_parent\"><img src=\"https://colab.research.google.com/assets/colab-badge.svg\" alt=\"Open In Colab\"/></a>"
      ]
    },
    {
      "cell_type": "markdown",
      "source": [
        "**1. Loading the dummy data\n",
        "**"
      ],
      "metadata": {
        "id": "xRzQZQKg0RBf"
      }
    },
    {
      "cell_type": "code",
      "execution_count": 34,
      "metadata": {
        "id": "JCVOkRhNmQ5R"
      },
      "outputs": [],
      "source": [
        "import pandas as pd\n",
        "import numpy as np\n",
        "from scipy import stats\n",
        "from sklearn.preprocessing import StandardScaler\n",
        "import matplotlib.pyplot as plt\n",
        "import seaborn as sns\n"
      ]
    },
    {
      "cell_type": "code",
      "source": [
        "import pandas as pd\n",
        "import numpy as np\n",
        "\n",
        "# Create a dummy dataset\n",
        "np.random.seed(0)\n",
        "dummy_data = {\n",
        "    'Feature1': np.random.normal(100, 10, 100).tolist() + [np.nan, 200],  # Normally distributed with an outlier\n",
        "    'Feature2': np.random.randint(0, 100, 102).tolist(),  # Random integers\n",
        "    'Category': ['A', 'B', 'C', 'D'] * 25 + [np.nan, 'A'],  # Categorical with some missing values\n",
        "    'Target': np.random.choice([0, 1], 102).tolist()  # Binary target variable\n",
        "}\n",
        "\n",
        "# Convert the dictionary to a pandas DataFrame\n",
        "df_dummy = pd.DataFrame(dummy_data)\n",
        "\n",
        "# Display the first few rows of the dummy dataset\n",
        "print(df_dummy.head())"
      ],
      "metadata": {
        "colab": {
          "base_uri": "https://localhost:8080/"
        },
        "id": "ZLmmriUwvtrQ",
        "outputId": "091a116a-e0a6-46a2-e2f4-66e1511308e9"
      },
      "execution_count": 33,
      "outputs": [
        {
          "output_type": "stream",
          "name": "stdout",
          "text": [
            "     Feature1  Feature2 Category  Target\n",
            "0  117.640523        32        A       1\n",
            "1  104.001572        70        B       1\n",
            "2  109.787380        85        C       0\n",
            "3  122.408932        31        D       1\n",
            "4  118.675580        13        A       0\n"
          ]
        }
      ]
    },
    {
      "cell_type": "markdown",
      "source": [
        "**2. Applying the preprocessing tool\n",
        "**"
      ],
      "metadata": {
        "id": "ClCM9ntR0c2s"
      }
    },
    {
      "cell_type": "code",
      "source": [
        "def load_data(df):\n",
        "    return df\n",
        "\n",
        "def handle_missing_values(df):\n",
        "    df_numeric = df.select_dtypes(include=[np.number])  # Sirf numeric columns lo\n",
        "    df[df_numeric.columns] = df_numeric.fillna(df_numeric.mean())  # Sirf numeric columns fill karna\n",
        "    return df\n",
        "\n",
        "\n",
        "def remove_outliers(df):\n",
        "    z_scores = np.abs(stats.zscore(df.select_dtypes(include=[np.number])))\n",
        "    return df[(z_scores < 3).all(axis=1)]  # Remove rows with any outliers\n",
        "\n",
        "def scale_data(df):\n",
        "    scaler = StandardScaler()\n",
        "    df[df.select_dtypes(include=[np.number]).columns] = scaler.fit_transform(df.select_dtypes(include=[np.number]))\n",
        "    return df\n",
        "\n",
        "def encode_categorical(df, categorical_columns):\n",
        "    return pd.get_dummies(df, columns=categorical_columns)\n",
        "\n",
        "def save_data(df, output_filepath):\n",
        "    df.to_csv(output_filepath, index=False)"
      ],
      "metadata": {
        "id": "JwkoVIFkvtti"
      },
      "execution_count": 43,
      "outputs": []
    },
    {
      "cell_type": "markdown",
      "source": [
        "** Step 3: Preprocess the dummy data\n",
        "**"
      ],
      "metadata": {
        "id": "o505L6mQ0nQD"
      }
    },
    {
      "cell_type": "code",
      "source": [
        "# Load the data\n",
        "df_preprocessed = load_data(df_dummy)\n",
        "\n",
        "# Handle missing values\n",
        "df_preprocessed = handle_missing_values(df_preprocessed)\n",
        "\n",
        "# Remove outliers\n",
        "df_preprocessed = remove_outliers(df_preprocessed)\n",
        "\n",
        "# Scale the data\n",
        "df_preprocessed = scale_data(df_preprocessed)\n",
        "\n",
        "# Encode categorical variables\n",
        "df_preprocessed = encode_categorical(df_preprocessed, ['Category'])\n",
        "\n",
        "# Display the preprocessed data\n",
        "print(df_preprocessed.head())"
      ],
      "metadata": {
        "colab": {
          "base_uri": "https://localhost:8080/"
        },
        "id": "BKuU_Gt4vtwG",
        "outputId": "456729e5-34f8-42f1-f123-f751ee472c33"
      },
      "execution_count": 44,
      "outputs": [
        {
          "output_type": "stream",
          "name": "stdout",
          "text": [
            "   Feature1  Feature2    Target  Category_A  Category_B  Category_C  \\\n",
            "0  1.698298 -0.519379  0.932936        True       False       False   \n",
            "1  0.338384  0.887380  0.932936       False        True       False   \n",
            "2  0.915276  1.442679 -1.071884       False       False        True   \n",
            "3  2.173747 -0.556399  0.932936       False       False       False   \n",
            "4  1.801501 -1.222759 -1.071884        True       False       False   \n",
            "\n",
            "   Category_D  \n",
            "0       False  \n",
            "1       False  \n",
            "2       False  \n",
            "3        True  \n",
            "4       False  \n"
          ]
        },
        {
          "output_type": "stream",
          "name": "stderr",
          "text": [
            "<ipython-input-43-97b9d74439dd>:16: SettingWithCopyWarning: \n",
            "A value is trying to be set on a copy of a slice from a DataFrame.\n",
            "Try using .loc[row_indexer,col_indexer] = value instead\n",
            "\n",
            "See the caveats in the documentation: https://pandas.pydata.org/pandas-docs/stable/user_guide/indexing.html#returning-a-view-versus-a-copy\n",
            "  df[df.select_dtypes(include=[np.number]).columns] = scaler.fit_transform(df.select_dtypes(include=[np.number]))\n"
          ]
        }
      ]
    },
    {
      "cell_type": "markdown",
      "source": [
        "**3. Saving the preprocessed data\n",
        "**"
      ],
      "metadata": {
        "id": "VaLkHT2P0uuY"
      }
    },
    {
      "cell_type": "code",
      "source": [
        "# Save the cleaned and preprocessed DataFrame to a CSV file\n",
        "save_data(df_preprocessed, 'preprocessed_dummy_data.csv')\n",
        "\n",
        "print('Preprocessing complete. Preprocessed data saved as preprocessed_dummy_data.csv')"
      ],
      "metadata": {
        "colab": {
          "base_uri": "https://localhost:8080/"
        },
        "id": "-_kU6BeVw70j",
        "outputId": "ba955e08-2ca2-4c14-92cd-c72cb03bd3f0"
      },
      "execution_count": 45,
      "outputs": [
        {
          "output_type": "stream",
          "name": "stdout",
          "text": [
            "Preprocessing complete. Preprocessed data saved as preprocessed_dummy_data.csv\n"
          ]
        }
      ]
    },
    {
      "cell_type": "markdown",
      "source": [
        "**4. Verifying the preprocessing steps\n",
        "**"
      ],
      "metadata": {
        "id": "scjySgmp01vE"
      }
    },
    {
      "cell_type": "code",
      "source": [
        "print(df_preprocessed.isnull().sum())"
      ],
      "metadata": {
        "colab": {
          "base_uri": "https://localhost:8080/"
        },
        "id": "0GJ9z7HMw73v",
        "outputId": "05745b7f-00e6-481e-b082-a70b73d861ce"
      },
      "execution_count": 46,
      "outputs": [
        {
          "output_type": "stream",
          "name": "stdout",
          "text": [
            "Feature1      0\n",
            "Feature2      0\n",
            "Target        0\n",
            "Category_A    0\n",
            "Category_B    0\n",
            "Category_C    0\n",
            "Category_D    0\n",
            "dtype: int64\n"
          ]
        }
      ]
    },
    {
      "cell_type": "code",
      "source": [
        "print(df_preprocessed.describe())"
      ],
      "metadata": {
        "colab": {
          "base_uri": "https://localhost:8080/"
        },
        "id": "QPaCq6t1xEBB",
        "outputId": "b773d2b8-6193-48e1-aa9c-f0aae804fe36"
      },
      "execution_count": 47,
      "outputs": [
        {
          "output_type": "stream",
          "name": "stdout",
          "text": [
            "           Feature1      Feature2        Target\n",
            "count  1.010000e+02  1.010000e+02  1.010000e+02\n",
            "mean  -2.526444e-15 -3.407615e-17 -2.418308e-17\n",
            "std    1.004988e+00  1.004988e+00  1.004988e+00\n",
            "min   -2.606142e+00 -1.704018e+00 -1.071884e+00\n",
            "25%   -6.930755e-01 -6.674590e-01 -1.071884e+00\n",
            "50%    6.071482e-02 -1.861994e-01  9.329364e-01\n",
            "75%    6.663572e-01  8.503597e-01  9.329364e-01\n",
            "max    2.202524e+00  1.886919e+00  9.329364e-01\n"
          ]
        }
      ]
    },
    {
      "cell_type": "code",
      "source": [
        "print(df_preprocessed.head())"
      ],
      "metadata": {
        "colab": {
          "base_uri": "https://localhost:8080/"
        },
        "id": "YqqEEJ-9xEDl",
        "outputId": "455bca61-5d62-4656-9865-1c98baf69a2b"
      },
      "execution_count": 48,
      "outputs": [
        {
          "output_type": "stream",
          "name": "stdout",
          "text": [
            "   Feature1  Feature2    Target  Category_A  Category_B  Category_C  \\\n",
            "0  1.698298 -0.519379  0.932936        True       False       False   \n",
            "1  0.338384  0.887380  0.932936       False        True       False   \n",
            "2  0.915276  1.442679 -1.071884       False       False        True   \n",
            "3  2.173747 -0.556399  0.932936       False       False       False   \n",
            "4  1.801501 -1.222759 -1.071884        True       False       False   \n",
            "\n",
            "   Category_D  \n",
            "0       False  \n",
            "1       False  \n",
            "2       False  \n",
            "3        True  \n",
            "4       False  \n"
          ]
        }
      ]
    },
    {
      "cell_type": "code",
      "source": [
        "print(df_preprocessed.columns)"
      ],
      "metadata": {
        "colab": {
          "base_uri": "https://localhost:8080/"
        },
        "id": "MS7y91-mxEHP",
        "outputId": "386b17ea-1e21-461d-e8b1-c0c3642d54fd"
      },
      "execution_count": 49,
      "outputs": [
        {
          "output_type": "stream",
          "name": "stdout",
          "text": [
            "Index(['Feature1', 'Feature2', 'Target', 'Category_A', 'Category_B',\n",
            "       'Category_C', 'Category_D'],\n",
            "      dtype='object')\n"
          ]
        }
      ]
    }
  ]
}