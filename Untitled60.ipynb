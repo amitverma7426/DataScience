{
  "nbformat": 4,
  "nbformat_minor": 0,
  "metadata": {
    "colab": {
      "provenance": [],
      "authorship_tag": "ABX9TyPf3MSnRytywbMhcwZlNBwc",
      "include_colab_link": true
    },
    "kernelspec": {
      "name": "python3",
      "display_name": "Python 3"
    },
    "language_info": {
      "name": "python"
    }
  },
  "cells": [
    {
      "cell_type": "markdown",
      "metadata": {
        "id": "view-in-github",
        "colab_type": "text"
      },
      "source": [
        "<a href=\"https://colab.research.google.com/github/amitverma7426/DataScience/blob/main/Untitled60.ipynb\" target=\"_parent\"><img src=\"https://colab.research.google.com/assets/colab-badge.svg\" alt=\"Open In Colab\"/></a>"
      ]
    },
    {
      "cell_type": "code",
      "execution_count": null,
      "metadata": {
        "id": "gFxBoA5Aow_H"
      },
      "outputs": [],
      "source": [
        "HTML Code\n"
      ]
    },
    {
      "cell_type": "code",
      "source": [
        "<!DOCTYPE html>\n",
        "<html lang=\"en\">\n",
        "<head>\n",
        "    <meta charset=\"UTF-8\">\n",
        "    <meta name=\"viewport\" content=\"width=device-width, initial-scale=1.0\">\n",
        "    <title>Automated Ceiling Fan Control</title>\n",
        "    <link rel=\"stylesheet\" href=\"styles.css\">\n",
        "</head>\n",
        "<body>\n",
        "    <div class=\"container\">\n",
        "        <h1>Ceiling Fan Control</h1>\n",
        "        <div class=\"controls\">\n",
        "            <button id=\"fanOn\">Turn Fan On</button>\n",
        "            <button id=\"fanOff\">Turn Fan Off</button>\n",
        "        </div>\n",
        "        <div class=\"controls\">\n",
        "            <button id=\"increaseSpeed\">Increase Speed</button>\n",
        "            <button id=\"decreaseSpeed\">Decrease Speed</button>\n",
        "        </div>\n",
        "        <div class=\"controls\">\n",
        "            <button id=\"voiceCommand\">Voice Command</button>\n",
        "        </div>\n",
        "    </div>\n",
        "    <script src=\"script.js\"></script>\n",
        "</body>\n",
        "</html>\n"
      ],
      "metadata": {
        "id": "wjvcZidno-7Y"
      },
      "execution_count": null,
      "outputs": []
    },
    {
      "cell_type": "code",
      "source": [],
      "metadata": {
        "id": "N-BM0PfJpB8V"
      },
      "execution_count": null,
      "outputs": []
    },
    {
      "cell_type": "markdown",
      "source": [
        "CSS Code\n"
      ],
      "metadata": {
        "id": "UaF_YhJApDSt"
      }
    },
    {
      "cell_type": "code",
      "source": [
        "body {\n",
        "    font-family: Arial, sans-serif;\n",
        "    background-color: #f4f4f4;\n",
        "    margin: 0;\n",
        "    display: flex;\n",
        "    justify-content: center;\n",
        "    align-items: center;\n",
        "    height: 100vh;\n",
        "}\n",
        "\n",
        ".container {\n",
        "    background: #fff;\n",
        "    padding: 20px;\n",
        "    border-radius: 10px;\n",
        "    box-shadow: 0 0 10px rgba(0, 0, 0, 0.1);\n",
        "    text-align: center;\n",
        "    max-width: 300px;\n",
        "    width: 100%;\n",
        "}\n",
        "\n",
        "h1 {\n",
        "    margin-bottom: 20px;\n",
        "}\n",
        "\n",
        ".controls {\n",
        "    margin-bottom: 20px;\n",
        "}\n",
        "\n",
        "button {\n",
        "    background-color: #007BFF;\n",
        "    color: white;\n",
        "    border: none;\n",
        "    padding: 15px 20px;\n",
        "    margin: 10px;\n",
        "    border-radius: 5px;\n",
        "    font-size: 16px;\n",
        "    cursor: pointer;\n",
        "    width: 100%;\n",
        "}\n",
        "\n",
        "button:hover {\n",
        "    background-color: #0056b3;\n",
        "}\n"
      ],
      "metadata": {
        "id": "FGKHg0obpFDp"
      },
      "execution_count": null,
      "outputs": []
    },
    {
      "cell_type": "code",
      "source": [],
      "metadata": {
        "id": "jApXTk7EpCHO"
      },
      "execution_count": null,
      "outputs": []
    },
    {
      "cell_type": "markdown",
      "source": [
        "JavaScript Code"
      ],
      "metadata": {
        "id": "77VNliAHpIfQ"
      }
    },
    {
      "cell_type": "code",
      "source": [
        "document.getElementById('fanOn').addEventListener('click', () => {\n",
        "    sendCommand('fanOn');\n",
        "});\n",
        "\n",
        "document.getElementById('fanOff').addEventListener('click', () => {\n",
        "    sendCommand('fanOff');\n",
        "});\n",
        "\n",
        "document.getElementById('increaseSpeed').addEventListener('click', () => {\n",
        "    sendCommand('increaseSpeed');\n",
        "});\n",
        "\n",
        "document.getElementById('decreaseSpeed').addEventListener('click', () => {\n",
        "    sendCommand('decreaseSpeed');\n",
        "});\n",
        "\n",
        "document.getElementById('voiceCommand').addEventListener('click', () => {\n",
        "    startVoiceCommand();\n",
        "});\n",
        "\n",
        "function sendCommand(command) {\n",
        "    fetch(`/fan/${command}`, {\n",
        "        method: 'POST'\n",
        "    }).then(response => {\n",
        "        if (response.ok) {\n",
        "            alert('Command sent successfully!');\n",
        "        } else {\n",
        "            alert('Failed to send command.');\n",
        "        }\n",
        "    });\n",
        "}\n",
        "\n",
        "function startVoiceCommand() {\n",
        "    const recognition = new (window.SpeechRecognition || window.webkitSpeechRecognition)();\n",
        "    recognition.lang = 'en-US';\n",
        "    recognition.start();\n",
        "    recognition.onresult = (event) => {\n",
        "        const voiceCommand = event.results[0][0].transcript.toLowerCase();\n",
        "        if (voiceCommand.includes('on')) {\n",
        "            sendCommand('fanOn');\n",
        "        } else if (voiceCommand.includes('off')) {\n",
        "            sendCommand('fanOff');\n",
        "        } else if (voiceCommand.includes('increase speed')) {\n",
        "            sendCommand('increaseSpeed');\n",
        "        } else if (voiceCommand.includes('decrease speed')) {\n",
        "            sendCommand('decreaseSpeed');\n",
        "        } else {\n",
        "            alert('Voice command not recognized.');\n",
        "        }\n",
        "    };\n",
        "    recognition.onerror = (event) => {\n",
        "        alert('Voice command error: ' + event.error);\n",
        "    };\n",
        "}\n"
      ],
      "metadata": {
        "id": "ajuaC0dppCKz"
      },
      "execution_count": null,
      "outputs": []
    },
    {
      "cell_type": "markdown",
      "source": [],
      "metadata": {
        "id": "i_LAOXGBpChA"
      }
    },
    {
      "cell_type": "markdown",
      "source": [],
      "metadata": {
        "id": "N2rSVwbDo83l"
      }
    }
  ]
}