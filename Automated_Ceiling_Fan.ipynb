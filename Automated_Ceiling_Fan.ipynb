{
  "nbformat": 4,
  "nbformat_minor": 0,
  "metadata": {
    "colab": {
      "provenance": [],
      "authorship_tag": "ABX9TyPFqLWJg6ycu0mgCszTwG8L",
      "include_colab_link": true
    },
    "kernelspec": {
      "name": "python3",
      "display_name": "Python 3"
    },
    "language_info": {
      "name": "python"
    }
  },
  "cells": [
    {
      "cell_type": "markdown",
      "metadata": {
        "id": "view-in-github",
        "colab_type": "text"
      },
      "source": [
        "<a href=\"https://colab.research.google.com/github/amitverma7426/DataScience/blob/main/Automated_Ceiling_Fan.ipynb\" target=\"_parent\"><img src=\"https://colab.research.google.com/assets/colab-badge.svg\" alt=\"Open In Colab\"/></a>"
      ]
    },
    {
      "cell_type": "code",
      "execution_count": null,
      "metadata": {
        "id": "fsw3_0RUTqF-"
      },
      "outputs": [],
      "source": [
        "#include <IRremote.h>\n",
        "\n",
        "// Constants for the relay and IR receiver pins\n",
        "const int relaypin = 4;\n",
        "const byte IR_RECEIVE_PIN = 5;\n",
        "\n",
        "unsigned long fan_off_time = 0;\n",
        "bool fan_on = false;\n",
        "\n",
        "void setup() {\n",
        "  Serial.begin(9600);\n",
        "  Serial.println(\"IR Receive test\");\n",
        "\n",
        "  IrReceiver.begin(IR_RECEIVE_PIN, ENABLE_LED_FEEDBACK);\n",
        "  pinMode(relaypin, OUTPUT);\n",
        "}\n",
        "\n",
        "void loop() {\n",
        "  if (IrReceiver.decode()) {\n",
        "    int ir_command = IrReceiver.decodedIRData.command;\n",
        "    Serial.println(ir_command);\n",
        "\n",
        "    if (ir_command == 1) {  // Set fan time to 1 minute\n",
        "      setFanTime(1);\n",
        "    } else if (ir_command == 2) {  // Set fan time to 2 minutes\n",
        "      setFanTime(2);\n",
        "    } else if (ir_command == 3) {  // Set fan time to 3 minutes\n",
        "      setFanTime(3);\n",
        "    } else if (ir_command == 4) {  // Set fan time to 4 minutes\n",
        "      setFanTime(4);\n",
        "    } else if (ir_command == 5) {  // Turn fan on immediately\n",
        "      digitalWrite(relaypin, HIGH);\n",
        "      fan_on = true;\n",
        "    } else if (ir_command == 6) {  // Turn fan off\n",
        "      digitalWrite(relaypin, LOW);\n",
        "      fan_on = false;\n",
        "    } else if (ir_command == 28) {  // Reset the Arduino\n",
        "      Serial.println(\"Resetting...\");\n",
        "      delay(1000);  // Wait for a moment before reset\n",
        "      asm volatile (\"  jmp 0\");  // Reset the Arduino\n",
        "    }\n",
        "\n",
        "    IrReceiver.resume(); // Prepare for the next IR signal\n",
        "  }\n",
        "\n",
        "  if (fan_on && millis() >= fan_off_time) {\n",
        "    digitalWrite(relaypin, LOW);\n",
        "    fan_on = false;\n",
        "  } else if (fan_on) {\n",
        "    int minutes_left = (fan_off_time - millis()) / 60000;\n",
        "    // Functionality remains the same, but without LCD output\n",
        "  }\n",
        "}\n",
        "\n",
        "void setFanTime(int minutes) {\n",
        "  fan_off_time = millis() + minutes * 60000; // Convert minutes to milliseconds\n",
        "  fan_on = true;\n",
        "  digitalWrite(relaypin, HIGH);\n",
        "}"
      ]
    }
  ]
}